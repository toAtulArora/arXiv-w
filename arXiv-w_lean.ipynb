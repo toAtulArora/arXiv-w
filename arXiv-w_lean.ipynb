{
 "cells": [
  {
   "cell_type": "markdown",
   "id": "13592884",
   "metadata": {},
   "source": [
    "# arXiv-W | lean\n",
    "\n",
    "Produces a reasonably formatted list from arXiv for weekly viewing.\n",
    "\n",
    "Issues: Does not yet export to PDF. Produces a markdown file."
   ]
  },
  {
   "cell_type": "markdown",
   "id": "21569af1",
   "metadata": {},
   "source": [
    "## Parameters"
   ]
  },
  {
   "cell_type": "code",
   "execution_count": 1,
   "id": "d8f56a44",
   "metadata": {},
   "outputs": [],
   "source": [
    "startday=\"20231225\"\n",
    "endday=\"20231231\"\n",
    "\n",
    "abstracts=True"
   ]
  },
  {
   "cell_type": "markdown",
   "id": "b538ef6e",
   "metadata": {},
   "source": [
    "## Initialise and Fetch from arXiv"
   ]
  },
  {
   "cell_type": "code",
   "execution_count": 2,
   "id": "7188aa92",
   "metadata": {},
   "outputs": [],
   "source": [
    "import requests\n",
    "\n",
    "from dateutil import parser\n",
    "from IPython.display import display, Markdown\n",
    "from datetime import datetime, timedelta #likely don't need this one\n",
    "\n",
    "from time import time\n",
    "from xml.etree import ElementTree as ET\n",
    "\n",
    "# # from markdown2pdf import convertToPDF\n",
    "# import pypandoc\n",
    "\n",
    "# The category you want to fetch\n",
    "a=\"quant-ph\"\n",
    "\n",
    "abstracts = True\n",
    "\n",
    "# URL of the XML object\n",
    "# url = \"https://export.arxiv.org/api/query?search_query=all:%s&sortBy=lastUpdatedDate&sortOrder=descending&max_results=600\" % a.lower().replace(' ','%20')\n",
    "# url = \"https://export.arxiv.org/api/query?search_query=cat:quant-ph&submittedDate:%5B202401100000+TO+202401170000%5D&max_results=600\"\n",
    "# url = \"https://export.arxiv.org/api/query?search_query=cat:quant-ph&submittedDate:%5B201901130630+TO+201901131645%5D&max_results=10\"\n",
    "\n",
    "\n",
    "url = \"https://export.arxiv.org/api/query?search_query=cat:quant-ph+AND+lastUpdatedDate:%5B\"+startday+\"0000+TO+\"+endday+\"0000%5D&max_results=1000&sortBy=lastUpdatedDate&sortOrder=ascending\"\n",
    "\n",
    "# url = \"https://export.arxiv.org/api/query?search_query=cat:quant-ph+AND+submittedDate:%5B201901130630+TO+201901141645%5D&max_results=10\"\n",
    "\n",
    "# Send a GET request to the URL\n",
    "response = requests.get(url)\n",
    "\n",
    "# Parse the XML response\n",
    "root = ET.fromstring(response.content)\n",
    "\n",
    "# Namespace dictionary to find elements\n",
    "namespaces = {'atom': 'http://www.w3.org/2005/Atom', 'arxiv': 'http://arxiv.org/schemas/atom'}\n",
    "\n"
   ]
  },
  {
   "cell_type": "markdown",
   "id": "eeb25a6e",
   "metadata": {},
   "source": [
    "## Create the Markdown"
   ]
  },
  {
   "cell_type": "code",
   "execution_count": 3,
   "id": "02312908",
   "metadata": {
    "scrolled": false
   },
   "outputs": [],
   "source": [
    "# Open the output file with UTF-8 encoding\n",
    "\n",
    "#Date beautifications\n",
    "startdate = parser.parse(startday)\n",
    "startdayname = startdate.strftime(\"%A\")\n",
    "\n",
    "enddate = parser.parse(endday)\n",
    "enddayname = enddate.strftime(\"%A\")\n",
    "\n",
    "refdate = datetime.now().replace(tzinfo=None)\n",
    "\n",
    "\n",
    "\n",
    "\n",
    "lastdate = refdate\n",
    "daycount=0\n",
    "with open(f\"arxiv_{startdate.date()}_to_{enddate.date()}_created_{refdate.date()}.md\", \"w\", encoding='utf-8') as file:\n",
    "    refDayName = refdate.strftime(\"%A\")\n",
    "    \n",
    "    file.write(f\"## arXiv:quant-ph—from {startdayname}, {startdate.date()} to {enddayname}, {enddate.date()}\\n\\n\")\n",
    "    # Iterate over each entry in the XML data\n",
    "    for entry in root.findall('atom:entry', namespaces):\n",
    "        # Extract the date\n",
    "        updated = entry.find('atom:updated', namespaces).text\n",
    "        published = entry.find('atom:published', namespaces).text\n",
    "        \n",
    "        #Check if it is older than date interval\n",
    "        date_object = parser.parse(updated).replace(tzinfo=None)\n",
    "\n",
    "        if(lastdate.date() != date_object.date()):\n",
    "            dayName = date_object.strftime(\"%A\")\n",
    "            file.write(f\"## {dayName} | {date_object.date()}\\n\\n\")\n",
    "            lastdate = date_object\n",
    "            \n",
    "            \n",
    "\n",
    "        # Extract and write the title\n",
    "        title = entry.find('atom:title', namespaces).text\n",
    "        title = ' '.join(title.split())  # Replace newlines and superfluous whitespace with a single space\n",
    "        if(abstracts):\n",
    "            file.write(f\"<details> <summary> <b>{title}</b>—\")\n",
    "        else:\n",
    "            file.write(f\"<b>{title}</b>—\")\n",
    "        # file.write(f\"**{title}—\")\n",
    "\n",
    "\n",
    "        # Extract and write the link to the paper\n",
    "        id = entry.find('atom:id', namespaces).text\n",
    "        if (published == updated):\n",
    "            file.write(f\"{parser.parse(published).date()}\" )\n",
    "        else:\n",
    "            file.write(f\"{parser.parse(published).date()} (updated: {parser.parse(updated).date()})\" )\n",
    "        file.write(f\"\\n\\n [[arXiv]({id})] \")\n",
    "\n",
    "        # Extract and write the authors\n",
    "        authors = entry.findall('atom:author', namespaces)\n",
    "        for author in authors:\n",
    "            name = author.find('atom:name', namespaces).text\n",
    "            if author == authors[-1]:\n",
    "                file.write(f\"{name}\")\n",
    "            else:\n",
    "                file.write(f\"{name}, \")\n",
    "        file.write(\"\\n\")\n",
    "\n",
    "        # Extract and write the summary\n",
    "        if(abstracts):\n",
    "            summary = entry.find('atom:summary', namespaces).text\n",
    "            # file.write(f\"<details> <summary>\\n\\n **Abstract** </summary> \\n{summary} </details>\\n\\n\")\n",
    "            file.write(f\"\\n\\n </summary> \\n\\n **Abstract** \\n{summary} </details>\\n\\n\")\n",
    "        else:\n",
    "            file.write(f\"\\n\\n\")\n",
    "\n",
    "# convert(f\"arxiv_{refdate}.md\",f\"arxiv_{refdate}.pdf\")"
   ]
  },
  {
   "cell_type": "markdown",
   "id": "74914ea0",
   "metadata": {},
   "source": [
    "## Preview"
   ]
  },
  {
   "cell_type": "code",
   "execution_count": null,
   "id": "3b5e1805",
   "metadata": {
    "scrolled": false
   },
   "outputs": [],
   "source": [
    "# Read the content of the Markdown file\n",
    "with open(f\"arxiv_{refdate}.md\", \"r\") as file:\n",
    "    markdown_content = file.read()\n",
    "\n",
    "# Display the content as Markdown\n",
    "display(Markdown(markdown_content))"
   ]
  },
  {
   "cell_type": "code",
   "execution_count": null,
   "id": "154633c8",
   "metadata": {},
   "outputs": [],
   "source": []
  }
 ],
 "metadata": {
  "kernelspec": {
   "display_name": "Python 3 (ipykernel)",
   "language": "python",
   "name": "python3"
  },
  "language_info": {
   "codemirror_mode": {
    "name": "ipython",
    "version": 3
   },
   "file_extension": ".py",
   "mimetype": "text/x-python",
   "name": "python",
   "nbconvert_exporter": "python",
   "pygments_lexer": "ipython3",
   "version": "3.9.7"
  }
 },
 "nbformat": 4,
 "nbformat_minor": 5
}
